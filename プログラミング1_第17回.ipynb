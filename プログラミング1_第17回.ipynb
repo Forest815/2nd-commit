{
  "nbformat": 4,
  "nbformat_minor": 0,
  "metadata": {
    "colab": {
      "provenance": [],
      "authorship_tag": "ABX9TyOLSsdQnNSNCUI0j7NxZYwf",
      "include_colab_link": true
    },
    "kernelspec": {
      "name": "python3",
      "display_name": "Python 3"
    },
    "language_info": {
      "name": "python"
    }
  },
  "cells": [
    {
      "cell_type": "markdown",
      "metadata": {
        "id": "view-in-github",
        "colab_type": "text"
      },
      "source": [
        "<a href=\"https://colab.research.google.com/github/Forest815/2nd-commit/blob/main/%E3%83%97%E3%83%AD%E3%82%B0%E3%83%A9%E3%83%9F%E3%83%B3%E3%82%B01_%E7%AC%AC17%E5%9B%9E.ipynb\" target=\"_parent\"><img src=\"https://colab.research.google.com/assets/colab-badge.svg\" alt=\"Open In Colab\"/></a>"
      ]
    },
    {
      "cell_type": "code",
      "execution_count": null,
      "metadata": {
        "colab": {
          "base_uri": "https://localhost:8080/"
        },
        "id": "DlDx3OHa33aL",
        "outputId": "1857c723-a347-411d-f24a-b67b60603bda"
      },
      "outputs": [
        {
          "output_type": "stream",
          "name": "stdout",
          "text": [
            "型確認 arr1 => <class 'list'>\n",
            "型確認 arr2 => <class 'list'>\n",
            "arr1 の長さ（要素数）は None\n",
            "arr2 の長さ（要素数）は None\n",
            "arr2[0] の長さ（要素数）は None\n",
            "arr2[1] の長さ（要素数）は None\n"
          ]
        }
      ],
      "source": [
        "%reset -f\n",
        "arr1 = [29, 3.14, \"円周率\", False] # 様々な型を内包することが可能\n",
        "arr2 = [[0.0, 0.1],       # 行ごとの要素数が違っていても可\n",
        "        [1.0, 1.1, 1.2],\n",
        "        [2.0],\n",
        "        [3.0, 3.1, 3.2, 3.3]]\n",
        "\n",
        "print(f'型確認 arr1 => {type(arr1)}') # 型確認 arr1 => <class 'list'>\n",
        "print(f'型確認 arr2 => {type(arr2)}') # 型確認 arr1 => <class 'list'>\n",
        "\n",
        "print(f'arr1 の長さ（要素数）は {None}') # => 4\n",
        "print(f'arr2 の長さ（要素数）は {None}') # => 4\n",
        "print(f'arr2[0] の長さ（要素数）は {None}') # => 2\n",
        "print(f'arr2[1] の長さ（要素数）は {None}') # => 3"
      ]
    },
    {
      "cell_type": "code",
      "source": [
        "%reset -f\n",
        "a = 0\n",
        "b = 0\n",
        "arr3 = [[26, 38, 14, 60], # 3行4列の2次配列の初期化\n",
        "        [39, a, 94, 63],\n",
        "        [41, 72, 65, b]]\n",
        "\n",
        "# 演習1\n",
        "\n",
        "print(f'a = {None}')\n",
        "\n",
        "# 演習2\n",
        "print(arr3)\n",
        "\n",
        "# 演習3\n",
        "\n",
        "print(f'b = {None}')"
      ],
      "metadata": {
        "colab": {
          "base_uri": "https://localhost:8080/"
        },
        "id": "pxabG2Pq4Wm1",
        "outputId": "3549a5f0-820f-4b05-895e-d1557077b0e2"
      },
      "execution_count": null,
      "outputs": [
        {
          "output_type": "stream",
          "name": "stdout",
          "text": [
            "a = None\n",
            "[[26, 38, 14, 60], [39, 0, 94, 63], [41, 72, 65, 0]]\n",
            "b = None\n"
          ]
        }
      ]
    },
    {
      "cell_type": "code",
      "source": [
        "import cv2\n",
        "import numpy as np\n",
        "import matplotlib.pyplot as plt\n",
        "\n",
        "# 画像表示(Matplotlibのimshowを利用)\n",
        "def show_image(img):\n",
        "  plt.imshow(img,cmap='gray')\n",
        "  plt.axis('off')\n",
        "  plt.show()\n",
        "\n",
        "# 画像をグレースケール(8bit)で読み込み\n",
        "img = cv2.imread('lenna_256x256.png',cv2.IMREAD_GRAYSCALE)\n",
        "\n",
        "# 変数imgが格納するオブジェクトの基本情報の確認\n",
        "print(f'img は {type(img)} 型のデータで、',end='')\n",
        "print(f'次元は {img.ndim}、サイズは {img.shape} です。')\n",
        "\n",
        "# 画像の出力\n",
        "show_image(img)\n",
        "\n",
        "# 反転処理と処理後画像の出力\n",
        "img_r = 255 - img\n",
        "show_image(img_r)"
      ],
      "metadata": {
        "id": "8wh9e1yK4g28",
        "colab": {
          "base_uri": "https://localhost:8080/",
          "height": 273
        },
        "outputId": "cf3bbd1f-07e4-4a19-8a62-4776cb869d99"
      },
      "execution_count": 1,
      "outputs": [
        {
          "output_type": "stream",
          "name": "stdout",
          "text": [
            "img は <class 'NoneType'> 型のデータで、"
          ]
        },
        {
          "output_type": "error",
          "ename": "AttributeError",
          "evalue": "ignored",
          "traceback": [
            "\u001b[0;31m---------------------------------------------------------------------------\u001b[0m",
            "\u001b[0;31mAttributeError\u001b[0m                            Traceback (most recent call last)",
            "\u001b[0;32m<ipython-input-1-79e1a5d26342>\u001b[0m in \u001b[0;36m<cell line: 16>\u001b[0;34m()\u001b[0m\n\u001b[1;32m     14\u001b[0m \u001b[0;31m# 変数imgが格納するオブジェクトの基本情報の確認\u001b[0m\u001b[0;34m\u001b[0m\u001b[0;34m\u001b[0m\u001b[0m\n\u001b[1;32m     15\u001b[0m \u001b[0mprint\u001b[0m\u001b[0;34m(\u001b[0m\u001b[0;34mf'img は {type(img)} 型のデータで、'\u001b[0m\u001b[0;34m,\u001b[0m\u001b[0mend\u001b[0m\u001b[0;34m=\u001b[0m\u001b[0;34m''\u001b[0m\u001b[0;34m)\u001b[0m\u001b[0;34m\u001b[0m\u001b[0;34m\u001b[0m\u001b[0m\n\u001b[0;32m---> 16\u001b[0;31m \u001b[0mprint\u001b[0m\u001b[0;34m(\u001b[0m\u001b[0;34mf'次元は {img.ndim}、サイズは {img.shape} です。'\u001b[0m\u001b[0;34m)\u001b[0m\u001b[0;34m\u001b[0m\u001b[0;34m\u001b[0m\u001b[0m\n\u001b[0m\u001b[1;32m     17\u001b[0m \u001b[0;34m\u001b[0m\u001b[0m\n\u001b[1;32m     18\u001b[0m \u001b[0;31m# 画像の出力\u001b[0m\u001b[0;34m\u001b[0m\u001b[0;34m\u001b[0m\u001b[0m\n",
            "\u001b[0;31mAttributeError\u001b[0m: 'NoneType' object has no attribute 'ndim'"
          ]
        }
      ]
    },
    {
      "cell_type": "code",
      "source": [
        "%reset -f\n",
        "import numpy as np\n",
        "\n",
        "# 10,000,000個の乱数を生成\n",
        "q = np.random.rand(10_000_000)\n",
        "p = q.tolist()\n",
        "\n",
        "# リストとして平均値を計算\n",
        "assert type(p) == list\n",
        "%timeit sum(p)/len(p)\n",
        "\n",
        "# ndarray として平均値を計算\n",
        "assert type(q) == np.ndarray\n",
        "%timeit q.mean()"
      ],
      "metadata": {
        "colab": {
          "base_uri": "https://localhost:8080/"
        },
        "id": "9HEDceEmY5cR",
        "outputId": "15c81b60-4ee9-4d8d-d0b6-6f29d42baa7c"
      },
      "execution_count": 2,
      "outputs": [
        {
          "output_type": "stream",
          "name": "stdout",
          "text": [
            "60 ms ± 3.98 ms per loop (mean ± std. dev. of 7 runs, 10 loops each)\n",
            "7.39 ms ± 548 µs per loop (mean ± std. dev. of 7 runs, 100 loops each)\n"
          ]
        }
      ]
    }
  ]
}